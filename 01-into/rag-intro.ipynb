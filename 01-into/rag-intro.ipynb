{
 "cells": [
  {
   "cell_type": "code",
   "execution_count": 1,
   "id": "67d68fc8-3bb2-4769-93b8-16d7b44d2a94",
   "metadata": {},
   "outputs": [
    {
     "name": "stdout",
     "output_type": "stream",
     "text": [
      "--2024-06-22 18:13:05--  https://raw.githubusercontent.com/alexeygrigorev/minsearch/main/minsearch.py\n",
      "Resolving raw.githubusercontent.com (raw.githubusercontent.com)... 185.199.111.133, 185.199.108.133, 185.199.109.133, ...\n",
      "Connecting to raw.githubusercontent.com (raw.githubusercontent.com)|185.199.111.133|:443... connected.\n",
      "HTTP request sent, awaiting response... 200 OK\n",
      "Length: 3832 (3.7K) [text/plain]\n",
      "Saving to: ‘minsearch.py’\n",
      "\n",
      "minsearch.py        100%[===================>]   3.74K  --.-KB/s    in 0s      \n",
      "\n",
      "2024-06-22 18:13:05 (14.5 MB/s) - ‘minsearch.py’ saved [3832/3832]\n",
      "\n"
     ]
    }
   ],
   "source": [
    "!wget https://raw.githubusercontent.com/alexeygrigorev/minsearch/main/minsearch.py"
   ]
  },
  {
   "cell_type": "code",
   "execution_count": 28,
   "id": "2575f1c3-a24d-48d7-a02a-fda805d2608e",
   "metadata": {},
   "outputs": [],
   "source": [
    "import minsearch"
   ]
  },
  {
   "cell_type": "code",
   "execution_count": 29,
   "id": "9c6b8002-c6b8-4990-8a63-7d1785d7273d",
   "metadata": {},
   "outputs": [],
   "source": [
    "import json "
   ]
  },
  {
   "cell_type": "code",
   "execution_count": 30,
   "id": "2b31431f-dd06-4488-85e0-8adfb5ef6015",
   "metadata": {},
   "outputs": [],
   "source": [
    "with open('documents.json','r') as f_in:\n",
    "    docs_raw = json.load(f_in)"
   ]
  },
  {
   "cell_type": "code",
   "execution_count": 31,
   "id": "0e7950bf-b888-40f3-9faa-adefa866dc50",
   "metadata": {},
   "outputs": [],
   "source": [
    "documents = []\n",
    "\n",
    "for course_dict in docs_raw:\n",
    "    for doc in course_dict['documents']:\n",
    "        doc['course']= course_dict['course']\n",
    "        documents.append(doc)"
   ]
  },
  {
   "cell_type": "code",
   "execution_count": 8,
   "id": "d524ad62-c6ea-4e6a-8642-4cf6d1899986",
   "metadata": {},
   "outputs": [
    {
     "data": {
      "text/plain": [
       "{'text': \"The purpose of this document is to capture frequently asked technical questions\\nThe exact day and hour of the course will be 15th Jan 2024 at 17h00. The course will start with the first  “Office Hours'' live.1\\nSubscribe to course public Google Calendar (it works from Desktop only).\\nRegister before the course starts using this link.\\nJoin the course Telegram channel with announcements.\\nDon’t forget to register in DataTalks.Club's Slack and join the channel.\",\n",
       " 'section': 'General course-related questions',\n",
       " 'question': 'Course - When will the course start?',\n",
       " 'course': 'data-engineering-zoomcamp'}"
      ]
     },
     "execution_count": 8,
     "metadata": {},
     "output_type": "execute_result"
    }
   ],
   "source": [
    "documents[0]"
   ]
  },
  {
   "cell_type": "code",
   "execution_count": 32,
   "id": "0c48e33b-5cb7-4f28-9602-655ba682c65d",
   "metadata": {},
   "outputs": [],
   "source": [
    "index = minsearch.Index(text_fields=[\"question\", \"text\", \"section\"],\n",
    "    keyword_fields=[\"course\"])"
   ]
  },
  {
   "cell_type": "code",
   "execution_count": 33,
   "id": "c53dfa38-de95-4a7d-9a42-19c1645039f2",
   "metadata": {},
   "outputs": [],
   "source": [
    "q = 'the course has already stared, can I still enroll?'"
   ]
  },
  {
   "cell_type": "code",
   "execution_count": 34,
   "id": "43643428-c724-486e-87a5-87d83bb013e7",
   "metadata": {},
   "outputs": [
    {
     "data": {
      "text/plain": [
       "<minsearch.Index at 0x7212c6f1fd30>"
      ]
     },
     "execution_count": 34,
     "metadata": {},
     "output_type": "execute_result"
    }
   ],
   "source": [
    "index.fit(documents)"
   ]
  },
  {
   "cell_type": "code",
   "execution_count": 49,
   "id": "839e430a-468b-4256-8dcb-7f02d8a089cc",
   "metadata": {
    "scrolled": true
   },
   "outputs": [],
   "source": [
    "boost = {'question':3.0, 'section':0.5}\n",
    "\n",
    "results = index.search(query= q,\n",
    "             boost_dict=boost)"
   ]
  },
  {
   "cell_type": "code",
   "execution_count": 45,
   "id": "b19175ae-137d-43eb-9df2-48f31be8163a",
   "metadata": {},
   "outputs": [],
   "source": [
    "from openai import OpenAI\n",
    "from os import getenv\n",
    "\n",
    "# gets API Key from environment variable OPENAI_API_KEY\n",
    "client = OpenAI(\n",
    "  base_url=\"https://openrouter.ai/api/v1\",\n",
    "  api_key=\"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\",\n",
    ")\n",
    "\n",
    "response = client.chat.completions.create(\n",
    "  model=\"openai/gpt-3.5-turbo\",\n",
    "  messages=[\n",
    "    {\n",
    "      \"role\": \"user\",\n",
    "      \"content\": q,\n",
    "    },\n",
    "  ],\n",
    ")\n"
   ]
  },
  {
   "cell_type": "code",
   "execution_count": 47,
   "id": "3604480a-387f-4c8b-b836-c0ec7ba528ea",
   "metadata": {},
   "outputs": [
    {
     "data": {
      "text/plain": [
       "\"It depends on the policies of the institution or organization offering the course. Some may allow late enrollment with special permission or a fee, while others may have a strict deadline for enrollment. It's advisable to check with the course administrator or registrar's office to see if it's still possible to enroll in the course.\""
      ]
     },
     "execution_count": 47,
     "metadata": {},
     "output_type": "execute_result"
    }
   ],
   "source": [
    "response.choices[0].message.content"
   ]
  },
  {
   "cell_type": "code",
   "execution_count": 86,
   "id": "03b2596a-2ca3-45b9-8ada-a8e0a4220585",
   "metadata": {},
   "outputs": [],
   "source": [
    "prompt_template= \"\"\" \n",
    "You're a course teaching assistant. \n",
    "Answer the question based on the context. \n",
    "use only the facts in the contexts for answering the question. if the context doesn't contain the answer output should be I don't know.\n",
    "\n",
    "\n",
    "Question: {question}\n",
    "\n",
    "CONTEXT\":{context}\n",
    "\"\"\".strip()"
   ]
  },
  {
   "cell_type": "code",
   "execution_count": 79,
   "id": "b4bef687-9ade-4518-81b8-15ebede73fa7",
   "metadata": {},
   "outputs": [],
   "source": [
    "context = \"\"\n",
    "for doc in results:\n",
    "    context = context + f\"section: {doc['section']}\\nquestion: {doc['question']}\\nanswer: {doc['text']}\\n\\n\"\n"
   ]
  },
  {
   "cell_type": "code",
   "execution_count": 88,
   "id": "64c155dd-e184-4971-be17-7194cf239c68",
   "metadata": {},
   "outputs": [],
   "source": [
    "prompt = prompt_template.format(question=q, context=context).strip()"
   ]
  },
  {
   "cell_type": "code",
   "execution_count": 89,
   "id": "d08792e9-d3cf-473e-803d-75cbb46cfdc1",
   "metadata": {},
   "outputs": [
    {
     "name": "stdout",
     "output_type": "stream",
     "text": [
      "You're a course teaching assistant. \n",
      "Answer the question based on the context. \n",
      "use only the facts in the contexts for answering the question. if the context doesn't contain the answer output should be I don't know.\n",
      "\n",
      "\n",
      "Question: the course has already stared, can I still enroll?\n",
      "\n",
      "CONTEXT\":section: General course-related questions\n",
      "question: The course has already started. Can I still join it?\n",
      "answer: Yes, you can. You won’t be able to submit some of the homeworks, but you can still take part in the course.\n",
      "In order to get a certificate, you need to submit 2 out of 3 course projects and review 3 peers’ Projects by the deadline. It means that if you join the course at the end of November and manage to work on two projects, you will still be eligible for a certificate.\n",
      "\n",
      "section: General course-related questions\n",
      "question: Course - Can I still join the course after the start date?\n",
      "answer: Yes, even if you don't register, you're still eligible to submit the homeworks.\n",
      "Be aware, however, that there will be deadlines for turning in the final projects. So don't leave everything for the last minute.\n",
      "\n",
      "section: General course-related questions\n",
      "question: Course - Can I follow the course after it finishes?\n",
      "answer: Yes, we will keep all the materials after the course finishes, so you can follow the course at your own pace after it finishes.\n",
      "You can also continue looking at the homeworks and continue preparing for the next cohort. I guess you can also start working on your final capstone project.\n",
      "\n",
      "section: General course-related questions\n",
      "question: Course - When will the course start?\n",
      "answer: The purpose of this document is to capture frequently asked technical questions\n",
      "The exact day and hour of the course will be 15th Jan 2024 at 17h00. The course will start with the first  “Office Hours'' live.1\n",
      "Subscribe to course public Google Calendar (it works from Desktop only).\n",
      "Register before the course starts using this link.\n",
      "Join the course Telegram channel with announcements.\n",
      "Don’t forget to register in DataTalks.Club's Slack and join the channel.\n",
      "\n",
      "section: General course-related questions\n",
      "question: Course - What can I do before the course starts?\n",
      "answer: You can start by installing and setting up all the dependencies and requirements:\n",
      "Google cloud account\n",
      "Google Cloud SDK\n",
      "Python 3 (installed with Anaconda)\n",
      "Terraform\n",
      "Git\n",
      "Look over the prerequisites and syllabus to see if you are comfortable with these subjects.\n",
      "\n",
      "section: General course-related questions\n",
      "question: Course - Can I get support if I take the course in the self-paced mode?\n",
      "answer: Yes, the slack channel remains open and you can ask questions there. But always sDocker containers exit code w search the channel first and second, check the FAQ (this document), most likely all your questions are already answered here.\n",
      "You can also tag the bot @ZoomcampQABot to help you conduct the search, but don’t rely on its answers 100%, it is pretty good though.\n",
      "\n",
      "section: General course-related questions\n",
      "question: How can we contribute to the course?\n",
      "answer: Star the repo! Share it with friends if you find it useful ❣️\n",
      "Create a PR if you see you can improve the text or the structure of the repository.\n",
      "\n",
      "section: General course-related questions\n",
      "question: I don't know math. Can I take the course?\n",
      "answer: Yes! We'll cover some linear algebra in the course, but in general, there will be very few formulas, mostly code.\n",
      "Here are some interesting videos covering linear algebra that you can already watch: ML Zoomcamp 1.8 - Linear Algebra Refresher from Alexey Grigorev or the excellent playlist from 3Blue1Brown Vectors | Chapter 1, Essence of linear algebra. Never hesitate to ask the community for help if you have any question.\n",
      "(Mélanie Fouesnard)\n",
      "\n",
      "section: General course-related questions\n",
      "question: Course - What are the prerequisites for this course?\n",
      "answer: GitHub - DataTalksClub data-engineering-zoomcamp#prerequisites\n",
      "\n",
      "section: +-General course questions\n",
      "question: Can I still graduate when I didn’t complete homework for week x?\n",
      "answer: In order to obtain the certificate, completion of the final capstone project is mandatory. The completion of weekly homework assignments is optional, but they can contribute to your overall progress and ranking on the top 100 leaderboard.\n"
     ]
    }
   ],
   "source": [
    "print(prompt)"
   ]
  },
  {
   "cell_type": "code",
   "execution_count": 90,
   "id": "5a222463-9e63-447a-9488-3b080858c3f5",
   "metadata": {},
   "outputs": [],
   "source": [
    "response = client.chat.completions.create(\n",
    "  model=\"openai/gpt-3.5-turbo\",\n",
    "  messages=[\n",
    "    {\n",
    "      \"role\": \"user\",\n",
    "      \"content\": prompt,\n",
    "    },\n",
    "  ],\n",
    ")\n"
   ]
  },
  {
   "cell_type": "code",
   "execution_count": 91,
   "id": "12b4342a-0bd3-4a13-8ba3-82eda45c8b5d",
   "metadata": {},
   "outputs": [
    {
     "data": {
      "text/plain": [
       "'Yes, you can still enroll in the course even though it has already started.'"
      ]
     },
     "execution_count": 91,
     "metadata": {},
     "output_type": "execute_result"
    }
   ],
   "source": [
    "response.choices[0].message.content"
   ]
  },
  {
   "cell_type": "code",
   "execution_count": null,
   "id": "cfca9db8-5e2a-4c5e-a9a4-2287dcf5ca22",
   "metadata": {},
   "outputs": [],
   "source": []
  }
 ],
 "metadata": {
  "kernelspec": {
   "display_name": "Python 3 (ipykernel)",
   "language": "python",
   "name": "python3"
  },
  "language_info": {
   "codemirror_mode": {
    "name": "ipython",
    "version": 3
   },
   "file_extension": ".py",
   "mimetype": "text/x-python",
   "name": "python",
   "nbconvert_exporter": "python",
   "pygments_lexer": "ipython3",
   "version": "3.10.13"
  }
 },
 "nbformat": 4,
 "nbformat_minor": 5
}
